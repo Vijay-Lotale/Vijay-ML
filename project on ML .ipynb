{
 "cells": [
  {
   "cell_type": "markdown",
   "id": "0a5bdbe4",
   "metadata": {},
   "source": [
    "## The Problem Statement :-  "
   ]
  },
  {
   "cell_type": "markdown",
   "id": "b0217b39",
   "metadata": {},
   "source": [
    "#### To predict the person will get affected by diabetes or not with the  help of given independent features ."
   ]
  },
  {
   "cell_type": "markdown",
   "id": "cbe54e46",
   "metadata": {},
   "source": [
    "### Importing all the needful libraries"
   ]
  },
  {
   "cell_type": "code",
   "execution_count": 1,
   "id": "8fe6fc48",
   "metadata": {},
   "outputs": [],
   "source": [
    "import pandas as pd\n",
    "import numpy as np\n",
    "import matplotlib.pyplot as plt\n",
    "import seaborn as sns \n",
    "import warnings\n",
    "warnings.filterwarnings(\"ignore\")\n",
    "\n",
    "from sklearn.tree import DecisionTreeClassifier\n",
    "from sklearn.metrics import accuracy_score , classification_report , r2_score\n",
    "from sklearn.linear_model import LogisticRegression\n",
    "from sklearn.neighbors import KNeighborsClassifier\n",
    "from sklearn.svm import SVC\n",
    "from sklearn.model_selection import train_test_split"
   ]
  },
  {
   "cell_type": "markdown",
   "id": "0a04137b",
   "metadata": {},
   "source": [
    " Importing the data in dataframe ."
   ]
  },
  {
   "cell_type": "code",
   "execution_count": 2,
   "id": "95b0150e",
   "metadata": {},
   "outputs": [],
   "source": [
    "df=pd.read_csv(\"diabetes_data.csv\")\n"
   ]
  },
  {
   "cell_type": "code",
   "execution_count": 3,
   "id": "f4b8e4aa",
   "metadata": {},
   "outputs": [
    {
     "data": {
      "text/html": [
       "<div>\n",
       "<style scoped>\n",
       "    .dataframe tbody tr th:only-of-type {\n",
       "        vertical-align: middle;\n",
       "    }\n",
       "\n",
       "    .dataframe tbody tr th {\n",
       "        vertical-align: top;\n",
       "    }\n",
       "\n",
       "    .dataframe thead th {\n",
       "        text-align: right;\n",
       "    }\n",
       "</style>\n",
       "<table border=\"1\" class=\"dataframe\">\n",
       "  <thead>\n",
       "    <tr style=\"text-align: right;\">\n",
       "      <th></th>\n",
       "      <th>Age</th>\n",
       "      <th>Sex</th>\n",
       "      <th>HighChol</th>\n",
       "      <th>CholCheck</th>\n",
       "      <th>BMI</th>\n",
       "      <th>Smoker</th>\n",
       "      <th>HeartDiseaseorAttack</th>\n",
       "      <th>PhysActivity</th>\n",
       "      <th>Fruits</th>\n",
       "      <th>Veggies</th>\n",
       "      <th>HvyAlcoholConsump</th>\n",
       "      <th>GenHlth</th>\n",
       "      <th>MentHlth</th>\n",
       "      <th>PhysHlth</th>\n",
       "      <th>DiffWalk</th>\n",
       "      <th>Stroke</th>\n",
       "      <th>HighBP</th>\n",
       "      <th>Diabetes</th>\n",
       "    </tr>\n",
       "  </thead>\n",
       "  <tbody>\n",
       "    <tr>\n",
       "      <th>0</th>\n",
       "      <td>4.0</td>\n",
       "      <td>1.0</td>\n",
       "      <td>0.0</td>\n",
       "      <td>1.0</td>\n",
       "      <td>26.0</td>\n",
       "      <td>0.0</td>\n",
       "      <td>0.0</td>\n",
       "      <td>1.0</td>\n",
       "      <td>0.0</td>\n",
       "      <td>1.0</td>\n",
       "      <td>0.0</td>\n",
       "      <td>3.0</td>\n",
       "      <td>5.0</td>\n",
       "      <td>30.0</td>\n",
       "      <td>0.0</td>\n",
       "      <td>0.0</td>\n",
       "      <td>1.0</td>\n",
       "      <td>0.0</td>\n",
       "    </tr>\n",
       "    <tr>\n",
       "      <th>1</th>\n",
       "      <td>12.0</td>\n",
       "      <td>1.0</td>\n",
       "      <td>1.0</td>\n",
       "      <td>1.0</td>\n",
       "      <td>26.0</td>\n",
       "      <td>1.0</td>\n",
       "      <td>0.0</td>\n",
       "      <td>0.0</td>\n",
       "      <td>1.0</td>\n",
       "      <td>0.0</td>\n",
       "      <td>0.0</td>\n",
       "      <td>3.0</td>\n",
       "      <td>0.0</td>\n",
       "      <td>0.0</td>\n",
       "      <td>0.0</td>\n",
       "      <td>1.0</td>\n",
       "      <td>1.0</td>\n",
       "      <td>0.0</td>\n",
       "    </tr>\n",
       "    <tr>\n",
       "      <th>2</th>\n",
       "      <td>13.0</td>\n",
       "      <td>1.0</td>\n",
       "      <td>0.0</td>\n",
       "      <td>1.0</td>\n",
       "      <td>26.0</td>\n",
       "      <td>0.0</td>\n",
       "      <td>0.0</td>\n",
       "      <td>1.0</td>\n",
       "      <td>1.0</td>\n",
       "      <td>1.0</td>\n",
       "      <td>0.0</td>\n",
       "      <td>1.0</td>\n",
       "      <td>0.0</td>\n",
       "      <td>10.0</td>\n",
       "      <td>0.0</td>\n",
       "      <td>0.0</td>\n",
       "      <td>0.0</td>\n",
       "      <td>0.0</td>\n",
       "    </tr>\n",
       "    <tr>\n",
       "      <th>3</th>\n",
       "      <td>11.0</td>\n",
       "      <td>1.0</td>\n",
       "      <td>1.0</td>\n",
       "      <td>1.0</td>\n",
       "      <td>28.0</td>\n",
       "      <td>1.0</td>\n",
       "      <td>0.0</td>\n",
       "      <td>1.0</td>\n",
       "      <td>1.0</td>\n",
       "      <td>1.0</td>\n",
       "      <td>0.0</td>\n",
       "      <td>3.0</td>\n",
       "      <td>0.0</td>\n",
       "      <td>3.0</td>\n",
       "      <td>0.0</td>\n",
       "      <td>0.0</td>\n",
       "      <td>1.0</td>\n",
       "      <td>0.0</td>\n",
       "    </tr>\n",
       "    <tr>\n",
       "      <th>4</th>\n",
       "      <td>8.0</td>\n",
       "      <td>0.0</td>\n",
       "      <td>0.0</td>\n",
       "      <td>1.0</td>\n",
       "      <td>29.0</td>\n",
       "      <td>1.0</td>\n",
       "      <td>0.0</td>\n",
       "      <td>1.0</td>\n",
       "      <td>1.0</td>\n",
       "      <td>1.0</td>\n",
       "      <td>0.0</td>\n",
       "      <td>2.0</td>\n",
       "      <td>0.0</td>\n",
       "      <td>0.0</td>\n",
       "      <td>0.0</td>\n",
       "      <td>0.0</td>\n",
       "      <td>0.0</td>\n",
       "      <td>0.0</td>\n",
       "    </tr>\n",
       "  </tbody>\n",
       "</table>\n",
       "</div>"
      ],
      "text/plain": [
       "    Age  Sex  HighChol  CholCheck   BMI  Smoker  HeartDiseaseorAttack  \\\n",
       "0   4.0  1.0       0.0        1.0  26.0     0.0                   0.0   \n",
       "1  12.0  1.0       1.0        1.0  26.0     1.0                   0.0   \n",
       "2  13.0  1.0       0.0        1.0  26.0     0.0                   0.0   \n",
       "3  11.0  1.0       1.0        1.0  28.0     1.0                   0.0   \n",
       "4   8.0  0.0       0.0        1.0  29.0     1.0                   0.0   \n",
       "\n",
       "   PhysActivity  Fruits  Veggies  HvyAlcoholConsump  GenHlth  MentHlth  \\\n",
       "0           1.0     0.0      1.0                0.0      3.0       5.0   \n",
       "1           0.0     1.0      0.0                0.0      3.0       0.0   \n",
       "2           1.0     1.0      1.0                0.0      1.0       0.0   \n",
       "3           1.0     1.0      1.0                0.0      3.0       0.0   \n",
       "4           1.0     1.0      1.0                0.0      2.0       0.0   \n",
       "\n",
       "   PhysHlth  DiffWalk  Stroke  HighBP  Diabetes  \n",
       "0      30.0       0.0     0.0     1.0       0.0  \n",
       "1       0.0       0.0     1.0     1.0       0.0  \n",
       "2      10.0       0.0     0.0     0.0       0.0  \n",
       "3       3.0       0.0     0.0     1.0       0.0  \n",
       "4       0.0       0.0     0.0     0.0       0.0  "
      ]
     },
     "execution_count": 3,
     "metadata": {},
     "output_type": "execute_result"
    }
   ],
   "source": [
    "df.head()"
   ]
  },
  {
   "cell_type": "code",
   "execution_count": 4,
   "id": "e559dbe8",
   "metadata": {
    "scrolled": false
   },
   "outputs": [
    {
     "name": "stdout",
     "output_type": "stream",
     "text": [
      "<class 'pandas.core.frame.DataFrame'>\n",
      "RangeIndex: 70692 entries, 0 to 70691\n",
      "Data columns (total 18 columns):\n",
      " #   Column                Non-Null Count  Dtype  \n",
      "---  ------                --------------  -----  \n",
      " 0   Age                   70692 non-null  float64\n",
      " 1   Sex                   70692 non-null  float64\n",
      " 2   HighChol              70692 non-null  float64\n",
      " 3   CholCheck             70692 non-null  float64\n",
      " 4   BMI                   70692 non-null  float64\n",
      " 5   Smoker                70692 non-null  float64\n",
      " 6   HeartDiseaseorAttack  70692 non-null  float64\n",
      " 7   PhysActivity          70692 non-null  float64\n",
      " 8   Fruits                70692 non-null  float64\n",
      " 9   Veggies               70692 non-null  float64\n",
      " 10  HvyAlcoholConsump     70692 non-null  float64\n",
      " 11  GenHlth               70692 non-null  float64\n",
      " 12  MentHlth              70692 non-null  float64\n",
      " 13  PhysHlth              70692 non-null  float64\n",
      " 14  DiffWalk              70692 non-null  float64\n",
      " 15  Stroke                70692 non-null  float64\n",
      " 16  HighBP                70692 non-null  float64\n",
      " 17  Diabetes              70692 non-null  float64\n",
      "dtypes: float64(18)\n",
      "memory usage: 9.7 MB\n"
     ]
    }
   ],
   "source": [
    "df.info()"
   ]
  },
  {
   "cell_type": "markdown",
   "id": "9c22c956",
   "metadata": {},
   "source": [
    "### Data Description . "
   ]
  },
  {
   "cell_type": "markdown",
   "id": "8a5355f9",
   "metadata": {},
   "source": [
    "The taken data is all about the diabetes scenario related in this dataset i got the 70,000 records, all the data is present in numeric format so there is no need to do the encoding and also there is no null values in the dataset .   "
   ]
  },
  {
   "cell_type": "code",
   "execution_count": 5,
   "id": "031cdf78",
   "metadata": {},
   "outputs": [
    {
     "data": {
      "text/plain": [
       "0.0    35346\n",
       "1.0    35346\n",
       "Name: Diabetes, dtype: int64"
      ]
     },
     "execution_count": 5,
     "metadata": {},
     "output_type": "execute_result"
    }
   ],
   "source": [
    "df[\"Diabetes\"].value_counts()"
   ]
  },
  {
   "cell_type": "markdown",
   "id": "6063865d",
   "metadata": {},
   "source": [
    "### The dependent feature or output column is perfectely balanced , and we have binary outcomes "
   ]
  },
  {
   "cell_type": "code",
   "execution_count": 6,
   "id": "532a1577",
   "metadata": {
    "scrolled": true
   },
   "outputs": [
    {
     "data": {
      "text/html": [
       "<div>\n",
       "<style scoped>\n",
       "    .dataframe tbody tr th:only-of-type {\n",
       "        vertical-align: middle;\n",
       "    }\n",
       "\n",
       "    .dataframe tbody tr th {\n",
       "        vertical-align: top;\n",
       "    }\n",
       "\n",
       "    .dataframe thead th {\n",
       "        text-align: right;\n",
       "    }\n",
       "</style>\n",
       "<table border=\"1\" class=\"dataframe\">\n",
       "  <thead>\n",
       "    <tr style=\"text-align: right;\">\n",
       "      <th></th>\n",
       "      <th>Age</th>\n",
       "      <th>Sex</th>\n",
       "      <th>HighChol</th>\n",
       "      <th>CholCheck</th>\n",
       "      <th>BMI</th>\n",
       "      <th>Smoker</th>\n",
       "      <th>HeartDiseaseorAttack</th>\n",
       "      <th>PhysActivity</th>\n",
       "      <th>Fruits</th>\n",
       "      <th>Veggies</th>\n",
       "      <th>HvyAlcoholConsump</th>\n",
       "      <th>GenHlth</th>\n",
       "      <th>MentHlth</th>\n",
       "      <th>PhysHlth</th>\n",
       "      <th>DiffWalk</th>\n",
       "      <th>Stroke</th>\n",
       "      <th>HighBP</th>\n",
       "      <th>Diabetes</th>\n",
       "    </tr>\n",
       "  </thead>\n",
       "  <tbody>\n",
       "    <tr>\n",
       "      <th>0</th>\n",
       "      <td>4.0</td>\n",
       "      <td>1.0</td>\n",
       "      <td>0.0</td>\n",
       "      <td>1.0</td>\n",
       "      <td>26.0</td>\n",
       "      <td>0.0</td>\n",
       "      <td>0.0</td>\n",
       "      <td>1.0</td>\n",
       "      <td>0.0</td>\n",
       "      <td>1.0</td>\n",
       "      <td>0.0</td>\n",
       "      <td>3.0</td>\n",
       "      <td>5.0</td>\n",
       "      <td>30.0</td>\n",
       "      <td>0.0</td>\n",
       "      <td>0.0</td>\n",
       "      <td>1.0</td>\n",
       "      <td>0.0</td>\n",
       "    </tr>\n",
       "    <tr>\n",
       "      <th>1</th>\n",
       "      <td>12.0</td>\n",
       "      <td>1.0</td>\n",
       "      <td>1.0</td>\n",
       "      <td>1.0</td>\n",
       "      <td>26.0</td>\n",
       "      <td>1.0</td>\n",
       "      <td>0.0</td>\n",
       "      <td>0.0</td>\n",
       "      <td>1.0</td>\n",
       "      <td>0.0</td>\n",
       "      <td>0.0</td>\n",
       "      <td>3.0</td>\n",
       "      <td>0.0</td>\n",
       "      <td>0.0</td>\n",
       "      <td>0.0</td>\n",
       "      <td>1.0</td>\n",
       "      <td>1.0</td>\n",
       "      <td>0.0</td>\n",
       "    </tr>\n",
       "    <tr>\n",
       "      <th>2</th>\n",
       "      <td>13.0</td>\n",
       "      <td>1.0</td>\n",
       "      <td>0.0</td>\n",
       "      <td>1.0</td>\n",
       "      <td>26.0</td>\n",
       "      <td>0.0</td>\n",
       "      <td>0.0</td>\n",
       "      <td>1.0</td>\n",
       "      <td>1.0</td>\n",
       "      <td>1.0</td>\n",
       "      <td>0.0</td>\n",
       "      <td>1.0</td>\n",
       "      <td>0.0</td>\n",
       "      <td>10.0</td>\n",
       "      <td>0.0</td>\n",
       "      <td>0.0</td>\n",
       "      <td>0.0</td>\n",
       "      <td>0.0</td>\n",
       "    </tr>\n",
       "    <tr>\n",
       "      <th>3</th>\n",
       "      <td>11.0</td>\n",
       "      <td>1.0</td>\n",
       "      <td>1.0</td>\n",
       "      <td>1.0</td>\n",
       "      <td>28.0</td>\n",
       "      <td>1.0</td>\n",
       "      <td>0.0</td>\n",
       "      <td>1.0</td>\n",
       "      <td>1.0</td>\n",
       "      <td>1.0</td>\n",
       "      <td>0.0</td>\n",
       "      <td>3.0</td>\n",
       "      <td>0.0</td>\n",
       "      <td>3.0</td>\n",
       "      <td>0.0</td>\n",
       "      <td>0.0</td>\n",
       "      <td>1.0</td>\n",
       "      <td>0.0</td>\n",
       "    </tr>\n",
       "    <tr>\n",
       "      <th>4</th>\n",
       "      <td>8.0</td>\n",
       "      <td>0.0</td>\n",
       "      <td>0.0</td>\n",
       "      <td>1.0</td>\n",
       "      <td>29.0</td>\n",
       "      <td>1.0</td>\n",
       "      <td>0.0</td>\n",
       "      <td>1.0</td>\n",
       "      <td>1.0</td>\n",
       "      <td>1.0</td>\n",
       "      <td>0.0</td>\n",
       "      <td>2.0</td>\n",
       "      <td>0.0</td>\n",
       "      <td>0.0</td>\n",
       "      <td>0.0</td>\n",
       "      <td>0.0</td>\n",
       "      <td>0.0</td>\n",
       "      <td>0.0</td>\n",
       "    </tr>\n",
       "  </tbody>\n",
       "</table>\n",
       "</div>"
      ],
      "text/plain": [
       "    Age  Sex  HighChol  CholCheck   BMI  Smoker  HeartDiseaseorAttack  \\\n",
       "0   4.0  1.0       0.0        1.0  26.0     0.0                   0.0   \n",
       "1  12.0  1.0       1.0        1.0  26.0     1.0                   0.0   \n",
       "2  13.0  1.0       0.0        1.0  26.0     0.0                   0.0   \n",
       "3  11.0  1.0       1.0        1.0  28.0     1.0                   0.0   \n",
       "4   8.0  0.0       0.0        1.0  29.0     1.0                   0.0   \n",
       "\n",
       "   PhysActivity  Fruits  Veggies  HvyAlcoholConsump  GenHlth  MentHlth  \\\n",
       "0           1.0     0.0      1.0                0.0      3.0       5.0   \n",
       "1           0.0     1.0      0.0                0.0      3.0       0.0   \n",
       "2           1.0     1.0      1.0                0.0      1.0       0.0   \n",
       "3           1.0     1.0      1.0                0.0      3.0       0.0   \n",
       "4           1.0     1.0      1.0                0.0      2.0       0.0   \n",
       "\n",
       "   PhysHlth  DiffWalk  Stroke  HighBP  Diabetes  \n",
       "0      30.0       0.0     0.0     1.0       0.0  \n",
       "1       0.0       0.0     1.0     1.0       0.0  \n",
       "2      10.0       0.0     0.0     0.0       0.0  \n",
       "3       3.0       0.0     0.0     1.0       0.0  \n",
       "4       0.0       0.0     0.0     0.0       0.0  "
      ]
     },
     "execution_count": 6,
     "metadata": {},
     "output_type": "execute_result"
    }
   ],
   "source": [
    "df.head()"
   ]
  },
  {
   "cell_type": "markdown",
   "id": "04820bbf",
   "metadata": {},
   "source": [
    "### Performing EDA to get only necessary data ."
   ]
  },
  {
   "cell_type": "code",
   "execution_count": 7,
   "id": "b88815f4",
   "metadata": {},
   "outputs": [],
   "source": [
    "df.drop(columns=[\"CholCheck\",\"PhysActivity\",\"Fruits\",\"Fruits\",\"HvyAlcoholConsump\",\"DiffWalk\",\"Stroke\"],inplace=True)"
   ]
  },
  {
   "cell_type": "code",
   "execution_count": 8,
   "id": "b392b632",
   "metadata": {},
   "outputs": [
    {
     "data": {
      "text/html": [
       "<div>\n",
       "<style scoped>\n",
       "    .dataframe tbody tr th:only-of-type {\n",
       "        vertical-align: middle;\n",
       "    }\n",
       "\n",
       "    .dataframe tbody tr th {\n",
       "        vertical-align: top;\n",
       "    }\n",
       "\n",
       "    .dataframe thead th {\n",
       "        text-align: right;\n",
       "    }\n",
       "</style>\n",
       "<table border=\"1\" class=\"dataframe\">\n",
       "  <thead>\n",
       "    <tr style=\"text-align: right;\">\n",
       "      <th></th>\n",
       "      <th>Age</th>\n",
       "      <th>Sex</th>\n",
       "      <th>HighChol</th>\n",
       "      <th>BMI</th>\n",
       "      <th>Smoker</th>\n",
       "      <th>HeartDiseaseorAttack</th>\n",
       "      <th>Veggies</th>\n",
       "      <th>GenHlth</th>\n",
       "      <th>MentHlth</th>\n",
       "      <th>PhysHlth</th>\n",
       "      <th>HighBP</th>\n",
       "      <th>Diabetes</th>\n",
       "    </tr>\n",
       "  </thead>\n",
       "  <tbody>\n",
       "    <tr>\n",
       "      <th>0</th>\n",
       "      <td>4.0</td>\n",
       "      <td>1.0</td>\n",
       "      <td>0.0</td>\n",
       "      <td>26.0</td>\n",
       "      <td>0.0</td>\n",
       "      <td>0.0</td>\n",
       "      <td>1.0</td>\n",
       "      <td>3.0</td>\n",
       "      <td>5.0</td>\n",
       "      <td>30.0</td>\n",
       "      <td>1.0</td>\n",
       "      <td>0.0</td>\n",
       "    </tr>\n",
       "    <tr>\n",
       "      <th>1</th>\n",
       "      <td>12.0</td>\n",
       "      <td>1.0</td>\n",
       "      <td>1.0</td>\n",
       "      <td>26.0</td>\n",
       "      <td>1.0</td>\n",
       "      <td>0.0</td>\n",
       "      <td>0.0</td>\n",
       "      <td>3.0</td>\n",
       "      <td>0.0</td>\n",
       "      <td>0.0</td>\n",
       "      <td>1.0</td>\n",
       "      <td>0.0</td>\n",
       "    </tr>\n",
       "    <tr>\n",
       "      <th>2</th>\n",
       "      <td>13.0</td>\n",
       "      <td>1.0</td>\n",
       "      <td>0.0</td>\n",
       "      <td>26.0</td>\n",
       "      <td>0.0</td>\n",
       "      <td>0.0</td>\n",
       "      <td>1.0</td>\n",
       "      <td>1.0</td>\n",
       "      <td>0.0</td>\n",
       "      <td>10.0</td>\n",
       "      <td>0.0</td>\n",
       "      <td>0.0</td>\n",
       "    </tr>\n",
       "    <tr>\n",
       "      <th>3</th>\n",
       "      <td>11.0</td>\n",
       "      <td>1.0</td>\n",
       "      <td>1.0</td>\n",
       "      <td>28.0</td>\n",
       "      <td>1.0</td>\n",
       "      <td>0.0</td>\n",
       "      <td>1.0</td>\n",
       "      <td>3.0</td>\n",
       "      <td>0.0</td>\n",
       "      <td>3.0</td>\n",
       "      <td>1.0</td>\n",
       "      <td>0.0</td>\n",
       "    </tr>\n",
       "    <tr>\n",
       "      <th>4</th>\n",
       "      <td>8.0</td>\n",
       "      <td>0.0</td>\n",
       "      <td>0.0</td>\n",
       "      <td>29.0</td>\n",
       "      <td>1.0</td>\n",
       "      <td>0.0</td>\n",
       "      <td>1.0</td>\n",
       "      <td>2.0</td>\n",
       "      <td>0.0</td>\n",
       "      <td>0.0</td>\n",
       "      <td>0.0</td>\n",
       "      <td>0.0</td>\n",
       "    </tr>\n",
       "  </tbody>\n",
       "</table>\n",
       "</div>"
      ],
      "text/plain": [
       "    Age  Sex  HighChol   BMI  Smoker  HeartDiseaseorAttack  Veggies  GenHlth  \\\n",
       "0   4.0  1.0       0.0  26.0     0.0                   0.0      1.0      3.0   \n",
       "1  12.0  1.0       1.0  26.0     1.0                   0.0      0.0      3.0   \n",
       "2  13.0  1.0       0.0  26.0     0.0                   0.0      1.0      1.0   \n",
       "3  11.0  1.0       1.0  28.0     1.0                   0.0      1.0      3.0   \n",
       "4   8.0  0.0       0.0  29.0     1.0                   0.0      1.0      2.0   \n",
       "\n",
       "   MentHlth  PhysHlth  HighBP  Diabetes  \n",
       "0       5.0      30.0     1.0       0.0  \n",
       "1       0.0       0.0     1.0       0.0  \n",
       "2       0.0      10.0     0.0       0.0  \n",
       "3       0.0       3.0     1.0       0.0  \n",
       "4       0.0       0.0     0.0       0.0  "
      ]
     },
     "execution_count": 8,
     "metadata": {},
     "output_type": "execute_result"
    }
   ],
   "source": [
    "df.head()"
   ]
  },
  {
   "cell_type": "code",
   "execution_count": 9,
   "id": "a13fddea",
   "metadata": {},
   "outputs": [
    {
     "data": {
      "text/plain": [
       "Text(0, 0.5, 'Density')"
      ]
     },
     "execution_count": 9,
     "metadata": {},
     "output_type": "execute_result"
    },
    {
     "data": {
      "image/png": "[encoded data removed]",
      "text/plain": [
       "<Figure size 576x576 with 1 Axes>"
      ]
     },
     "metadata": {
      "needs_background": "light"
     },
     "output_type": "display_data"
    }
   ],
   "source": [
    "plt.figure(figsize=(8,8))\n",
    "plt.title(\"Distrubition plot of diabetes\")\n",
    "sns.distplot(df[\"Diabetes\"])\n",
    "plt.xlabel(\"Diabetes\")\n",
    "plt.ylabel(\"Density\")"
   ]
  },
  {
   "cell_type": "code",
   "execution_count": 65,
   "id": "d00fac9c",
   "metadata": {
    "scrolled": false
   },
   "outputs": [
    {
     "data": {
      "image/png": "[encoded data removed]",
      "text/plain": [
       "<Figure size 504x504 with 1 Axes>"
      ]
     },
     "metadata": {
      "needs_background": "light"
     },
     "output_type": "display_data"
    }
   ],
   "source": [
    "plt.figure(figsize=(7,7))\n",
    "plt.title(\"Diabetes ratio W.R.T Smoker\")\n",
    "sns.countplot(x=\"Smoker\",hue=\"Diabetes\",data=df)\n",
    "plt.xlabel(\"Smoker\")\n",
    "plt.show()"
   ]
  },
  {
   "cell_type": "code",
   "execution_count": 11,
   "id": "8dba890b",
   "metadata": {},
   "outputs": [
    {
     "data": {
      "text/plain": [
       "0.0    37094\n",
       "1.0    33598\n",
       "Name: Smoker, dtype: int64"
      ]
     },
     "execution_count": 11,
     "metadata": {},
     "output_type": "execute_result"
    }
   ],
   "source": [
    "df[\"Smoker\"].value_counts()"
   ]
  },
  {
   "cell_type": "markdown",
   "id": "45525813",
   "metadata": {},
   "source": [
    "As we can see from the above graph ratio of smokers is directely proportional to ratio of diabetes will caused . "
   ]
  },
  {
   "cell_type": "markdown",
   "id": "536b49b8",
   "metadata": {},
   "source": [
    "### Outliers cheking in target variable ."
   ]
  },
  {
   "cell_type": "code",
   "execution_count": 12,
   "id": "1d9cfa3b",
   "metadata": {},
   "outputs": [
    {
     "data": {
      "image/png": "[encoded data removed]",
      "text/plain": [
       "<Figure size 360x360 with 1 Axes>"
      ]
     },
     "metadata": {
      "needs_background": "light"
     },
     "output_type": "display_data"
    }
   ],
   "source": [
    "plt.figure(figsize=(5,5))\n",
    "sns.boxplot(df.Diabetes)\n",
    "plt.show()"
   ]
  },
  {
   "cell_type": "markdown",
   "id": "a550401a",
   "metadata": {},
   "source": [
    "### As we can see the data is prefectely balanced so there is no outliers present in the dataset ."
   ]
  },
  {
   "cell_type": "markdown",
   "id": "4ff6ec7e",
   "metadata": {},
   "source": [
    "Splitting the data in x and y for the training and testing process ."
   ]
  },
  {
   "cell_type": "markdown",
   "id": "ff05923d",
   "metadata": {},
   "source": [
    "#### What are the independent features ? "
   ]
  },
  {
   "cell_type": "markdown",
   "id": "a9f8459b",
   "metadata": {},
   "source": [
    "Here all the features taken below i considered as my independent features and i have store that data in dataframe and labelled it as x ."
   ]
  },
  {
   "cell_type": "code",
   "execution_count": 13,
   "id": "2a4c750d",
   "metadata": {},
   "outputs": [
    {
     "data": {
      "text/html": [
       "<div>\n",
       "<style scoped>\n",
       "    .dataframe tbody tr th:only-of-type {\n",
       "        vertical-align: middle;\n",
       "    }\n",
       "\n",
       "    .dataframe tbody tr th {\n",
       "        vertical-align: top;\n",
       "    }\n",
       "\n",
       "    .dataframe thead th {\n",
       "        text-align: right;\n",
       "    }\n",
       "</style>\n",
       "<table border=\"1\" class=\"dataframe\">\n",
       "  <thead>\n",
       "    <tr style=\"text-align: right;\">\n",
       "      <th></th>\n",
       "      <th>Age</th>\n",
       "      <th>Sex</th>\n",
       "      <th>HighChol</th>\n",
       "      <th>BMI</th>\n",
       "      <th>Smoker</th>\n",
       "      <th>HeartDiseaseorAttack</th>\n",
       "      <th>Veggies</th>\n",
       "      <th>GenHlth</th>\n",
       "      <th>MentHlth</th>\n",
       "      <th>PhysHlth</th>\n",
       "      <th>HighBP</th>\n",
       "    </tr>\n",
       "  </thead>\n",
       "  <tbody>\n",
       "    <tr>\n",
       "      <th>0</th>\n",
       "      <td>4.0</td>\n",
       "      <td>1.0</td>\n",
       "      <td>0.0</td>\n",
       "      <td>26.0</td>\n",
       "      <td>0.0</td>\n",
       "      <td>0.0</td>\n",
       "      <td>1.0</td>\n",
       "      <td>3.0</td>\n",
       "      <td>5.0</td>\n",
       "      <td>30.0</td>\n",
       "      <td>1.0</td>\n",
       "    </tr>\n",
       "    <tr>\n",
       "      <th>1</th>\n",
       "      <td>12.0</td>\n",
       "      <td>1.0</td>\n",
       "      <td>1.0</td>\n",
       "      <td>26.0</td>\n",
       "      <td>1.0</td>\n",
       "      <td>0.0</td>\n",
       "      <td>0.0</td>\n",
       "      <td>3.0</td>\n",
       "      <td>0.0</td>\n",
       "      <td>0.0</td>\n",
       "      <td>1.0</td>\n",
       "    </tr>\n",
       "    <tr>\n",
       "      <th>2</th>\n",
       "      <td>13.0</td>\n",
       "      <td>1.0</td>\n",
       "      <td>0.0</td>\n",
       "      <td>26.0</td>\n",
       "      <td>0.0</td>\n",
       "      <td>0.0</td>\n",
       "      <td>1.0</td>\n",
       "      <td>1.0</td>\n",
       "      <td>0.0</td>\n",
       "      <td>10.0</td>\n",
       "      <td>0.0</td>\n",
       "    </tr>\n",
       "    <tr>\n",
       "      <th>3</th>\n",
       "      <td>11.0</td>\n",
       "      <td>1.0</td>\n",
       "      <td>1.0</td>\n",
       "      <td>28.0</td>\n",
       "      <td>1.0</td>\n",
       "      <td>0.0</td>\n",
       "      <td>1.0</td>\n",
       "      <td>3.0</td>\n",
       "      <td>0.0</td>\n",
       "      <td>3.0</td>\n",
       "      <td>1.0</td>\n",
       "    </tr>\n",
       "    <tr>\n",
       "      <th>4</th>\n",
       "      <td>8.0</td>\n",
       "      <td>0.0</td>\n",
       "      <td>0.0</td>\n",
       "      <td>29.0</td>\n",
       "      <td>1.0</td>\n",
       "      <td>0.0</td>\n",
       "      <td>1.0</td>\n",
       "      <td>2.0</td>\n",
       "      <td>0.0</td>\n",
       "      <td>0.0</td>\n",
       "      <td>0.0</td>\n",
       "    </tr>\n",
       "    <tr>\n",
       "      <th>...</th>\n",
       "      <td>...</td>\n",
       "      <td>...</td>\n",
       "      <td>...</td>\n",
       "      <td>...</td>\n",
       "      <td>...</td>\n",
       "      <td>...</td>\n",
       "      <td>...</td>\n",
       "      <td>...</td>\n",
       "      <td>...</td>\n",
       "      <td>...</td>\n",
       "      <td>...</td>\n",
       "    </tr>\n",
       "    <tr>\n",
       "      <th>70687</th>\n",
       "      <td>6.0</td>\n",
       "      <td>0.0</td>\n",
       "      <td>1.0</td>\n",
       "      <td>37.0</td>\n",
       "      <td>0.0</td>\n",
       "      <td>0.0</td>\n",
       "      <td>1.0</td>\n",
       "      <td>4.0</td>\n",
       "      <td>0.0</td>\n",
       "      <td>0.0</td>\n",
       "      <td>0.0</td>\n",
       "    </tr>\n",
       "    <tr>\n",
       "      <th>70688</th>\n",
       "      <td>10.0</td>\n",
       "      <td>1.0</td>\n",
       "      <td>1.0</td>\n",
       "      <td>29.0</td>\n",
       "      <td>1.0</td>\n",
       "      <td>1.0</td>\n",
       "      <td>1.0</td>\n",
       "      <td>2.0</td>\n",
       "      <td>0.0</td>\n",
       "      <td>0.0</td>\n",
       "      <td>0.0</td>\n",
       "    </tr>\n",
       "    <tr>\n",
       "      <th>70689</th>\n",
       "      <td>13.0</td>\n",
       "      <td>0.0</td>\n",
       "      <td>1.0</td>\n",
       "      <td>25.0</td>\n",
       "      <td>0.0</td>\n",
       "      <td>1.0</td>\n",
       "      <td>0.0</td>\n",
       "      <td>5.0</td>\n",
       "      <td>15.0</td>\n",
       "      <td>0.0</td>\n",
       "      <td>1.0</td>\n",
       "    </tr>\n",
       "    <tr>\n",
       "      <th>70690</th>\n",
       "      <td>11.0</td>\n",
       "      <td>0.0</td>\n",
       "      <td>1.0</td>\n",
       "      <td>18.0</td>\n",
       "      <td>0.0</td>\n",
       "      <td>0.0</td>\n",
       "      <td>0.0</td>\n",
       "      <td>4.0</td>\n",
       "      <td>0.0</td>\n",
       "      <td>0.0</td>\n",
       "      <td>1.0</td>\n",
       "    </tr>\n",
       "    <tr>\n",
       "      <th>70691</th>\n",
       "      <td>9.0</td>\n",
       "      <td>0.0</td>\n",
       "      <td>1.0</td>\n",
       "      <td>25.0</td>\n",
       "      <td>0.0</td>\n",
       "      <td>1.0</td>\n",
       "      <td>0.0</td>\n",
       "      <td>2.0</td>\n",
       "      <td>0.0</td>\n",
       "      <td>0.0</td>\n",
       "      <td>1.0</td>\n",
       "    </tr>\n",
       "  </tbody>\n",
       "</table>\n",
       "<p>70692 rows × 11 columns</p>\n",
       "</div>"
      ],
      "text/plain": [
       "        Age  Sex  HighChol   BMI  Smoker  HeartDiseaseorAttack  Veggies  \\\n",
       "0       4.0  1.0       0.0  26.0     0.0                   0.0      1.0   \n",
       "1      12.0  1.0       1.0  26.0     1.0                   0.0      0.0   \n",
       "2      13.0  1.0       0.0  26.0     0.0                   0.0      1.0   \n",
       "3      11.0  1.0       1.0  28.0     1.0                   0.0      1.0   \n",
       "4       8.0  0.0       0.0  29.0     1.0                   0.0      1.0   \n",
       "...     ...  ...       ...   ...     ...                   ...      ...   \n",
       "70687   6.0  0.0       1.0  37.0     0.0                   0.0      1.0   \n",
       "70688  10.0  1.0       1.0  29.0     1.0                   1.0      1.0   \n",
       "70689  13.0  0.0       1.0  25.0     0.0                   1.0      0.0   \n",
       "70690  11.0  0.0       1.0  18.0     0.0                   0.0      0.0   \n",
       "70691   9.0  0.0       1.0  25.0     0.0                   1.0      0.0   \n",
       "\n",
       "       GenHlth  MentHlth  PhysHlth  HighBP  \n",
       "0          3.0       5.0      30.0     1.0  \n",
       "1          3.0       0.0       0.0     1.0  \n",
       "2          1.0       0.0      10.0     0.0  \n",
       "3          3.0       0.0       3.0     1.0  \n",
       "4          2.0       0.0       0.0     0.0  \n",
       "...        ...       ...       ...     ...  \n",
       "70687      4.0       0.0       0.0     0.0  \n",
       "70688      2.0       0.0       0.0     0.0  \n",
       "70689      5.0      15.0       0.0     1.0  \n",
       "70690      4.0       0.0       0.0     1.0  \n",
       "70691      2.0       0.0       0.0     1.0  \n",
       "\n",
       "[70692 rows x 11 columns]"
      ]
     },
     "execution_count": 13,
     "metadata": {},
     "output_type": "execute_result"
    }
   ],
   "source": [
    "x=df.iloc[:,:-1]\n",
    "x"
   ]
  },
  {
   "cell_type": "markdown",
   "id": "74011a01",
   "metadata": {},
   "source": [
    "#### What is the target variable ? "
   ]
  },
  {
   "cell_type": "markdown",
   "id": "c87b3c05",
   "metadata": {},
   "source": [
    "Here i took diabetes is my target variable , it has the data that shows that person will get affected by diabetes or not ."
   ]
  },
  {
   "cell_type": "code",
   "execution_count": 14,
   "id": "c10639e6",
   "metadata": {},
   "outputs": [
    {
     "data": {
      "text/plain": [
       "0        0.0\n",
       "1        0.0\n",
       "2        0.0\n",
       "3        0.0\n",
       "4        0.0\n",
       "        ... \n",
       "70687    1.0\n",
       "70688    1.0\n",
       "70689    1.0\n",
       "70690    1.0\n",
       "70691    1.0\n",
       "Name: Diabetes, Length: 70692, dtype: float64"
      ]
     },
     "execution_count": 14,
     "metadata": {},
     "output_type": "execute_result"
    }
   ],
   "source": [
    "y=df.iloc[:,-1]\n",
    "y"
   ]
  },
  {
   "cell_type": "code",
   "execution_count": 15,
   "id": "50acdd92",
   "metadata": {},
   "outputs": [],
   "source": [
    "xtrain,xtest,ytrain,ytest=train_test_split(x,y,test_size=0.3,random_state=1)"
   ]
  },
  {
   "cell_type": "code",
   "execution_count": 16,
   "id": "c47ebcf9",
   "metadata": {},
   "outputs": [
    {
     "data": {
      "text/html": [
       "<div>\n",
       "<style scoped>\n",
       "    .dataframe tbody tr th:only-of-type {\n",
       "        vertical-align: middle;\n",
       "    }\n",
       "\n",
       "    .dataframe tbody tr th {\n",
       "        vertical-align: top;\n",
       "    }\n",
       "\n",
       "    .dataframe thead th {\n",
       "        text-align: right;\n",
       "    }\n",
       "</style>\n",
       "<table border=\"1\" class=\"dataframe\">\n",
       "  <thead>\n",
       "    <tr style=\"text-align: right;\">\n",
       "      <th></th>\n",
       "      <th>Age</th>\n",
       "      <th>Sex</th>\n",
       "      <th>HighChol</th>\n",
       "      <th>BMI</th>\n",
       "      <th>Smoker</th>\n",
       "      <th>HeartDiseaseorAttack</th>\n",
       "      <th>Veggies</th>\n",
       "      <th>GenHlth</th>\n",
       "      <th>MentHlth</th>\n",
       "      <th>PhysHlth</th>\n",
       "      <th>HighBP</th>\n",
       "    </tr>\n",
       "  </thead>\n",
       "  <tbody>\n",
       "    <tr>\n",
       "      <th>7295</th>\n",
       "      <td>9.0</td>\n",
       "      <td>0.0</td>\n",
       "      <td>0.0</td>\n",
       "      <td>24.0</td>\n",
       "      <td>0.0</td>\n",
       "      <td>0.0</td>\n",
       "      <td>1.0</td>\n",
       "      <td>2.0</td>\n",
       "      <td>1.0</td>\n",
       "      <td>0.0</td>\n",
       "      <td>0.0</td>\n",
       "    </tr>\n",
       "    <tr>\n",
       "      <th>44106</th>\n",
       "      <td>7.0</td>\n",
       "      <td>1.0</td>\n",
       "      <td>1.0</td>\n",
       "      <td>36.0</td>\n",
       "      <td>1.0</td>\n",
       "      <td>1.0</td>\n",
       "      <td>1.0</td>\n",
       "      <td>4.0</td>\n",
       "      <td>10.0</td>\n",
       "      <td>0.0</td>\n",
       "      <td>1.0</td>\n",
       "    </tr>\n",
       "    <tr>\n",
       "      <th>50743</th>\n",
       "      <td>9.0</td>\n",
       "      <td>1.0</td>\n",
       "      <td>1.0</td>\n",
       "      <td>27.0</td>\n",
       "      <td>1.0</td>\n",
       "      <td>1.0</td>\n",
       "      <td>1.0</td>\n",
       "      <td>5.0</td>\n",
       "      <td>25.0</td>\n",
       "      <td>30.0</td>\n",
       "      <td>1.0</td>\n",
       "    </tr>\n",
       "    <tr>\n",
       "      <th>29129</th>\n",
       "      <td>9.0</td>\n",
       "      <td>0.0</td>\n",
       "      <td>1.0</td>\n",
       "      <td>29.0</td>\n",
       "      <td>0.0</td>\n",
       "      <td>0.0</td>\n",
       "      <td>1.0</td>\n",
       "      <td>2.0</td>\n",
       "      <td>0.0</td>\n",
       "      <td>0.0</td>\n",
       "      <td>0.0</td>\n",
       "    </tr>\n",
       "    <tr>\n",
       "      <th>63691</th>\n",
       "      <td>8.0</td>\n",
       "      <td>1.0</td>\n",
       "      <td>0.0</td>\n",
       "      <td>32.0</td>\n",
       "      <td>1.0</td>\n",
       "      <td>0.0</td>\n",
       "      <td>1.0</td>\n",
       "      <td>3.0</td>\n",
       "      <td>1.0</td>\n",
       "      <td>2.0</td>\n",
       "      <td>1.0</td>\n",
       "    </tr>\n",
       "    <tr>\n",
       "      <th>...</th>\n",
       "      <td>...</td>\n",
       "      <td>...</td>\n",
       "      <td>...</td>\n",
       "      <td>...</td>\n",
       "      <td>...</td>\n",
       "      <td>...</td>\n",
       "      <td>...</td>\n",
       "      <td>...</td>\n",
       "      <td>...</td>\n",
       "      <td>...</td>\n",
       "      <td>...</td>\n",
       "    </tr>\n",
       "    <tr>\n",
       "      <th>49100</th>\n",
       "      <td>11.0</td>\n",
       "      <td>1.0</td>\n",
       "      <td>1.0</td>\n",
       "      <td>31.0</td>\n",
       "      <td>0.0</td>\n",
       "      <td>0.0</td>\n",
       "      <td>1.0</td>\n",
       "      <td>2.0</td>\n",
       "      <td>1.0</td>\n",
       "      <td>30.0</td>\n",
       "      <td>1.0</td>\n",
       "    </tr>\n",
       "    <tr>\n",
       "      <th>20609</th>\n",
       "      <td>10.0</td>\n",
       "      <td>0.0</td>\n",
       "      <td>1.0</td>\n",
       "      <td>27.0</td>\n",
       "      <td>0.0</td>\n",
       "      <td>0.0</td>\n",
       "      <td>1.0</td>\n",
       "      <td>2.0</td>\n",
       "      <td>3.0</td>\n",
       "      <td>10.0</td>\n",
       "      <td>1.0</td>\n",
       "    </tr>\n",
       "    <tr>\n",
       "      <th>21440</th>\n",
       "      <td>4.0</td>\n",
       "      <td>0.0</td>\n",
       "      <td>0.0</td>\n",
       "      <td>19.0</td>\n",
       "      <td>0.0</td>\n",
       "      <td>0.0</td>\n",
       "      <td>1.0</td>\n",
       "      <td>2.0</td>\n",
       "      <td>5.0</td>\n",
       "      <td>0.0</td>\n",
       "      <td>0.0</td>\n",
       "    </tr>\n",
       "    <tr>\n",
       "      <th>50057</th>\n",
       "      <td>10.0</td>\n",
       "      <td>1.0</td>\n",
       "      <td>1.0</td>\n",
       "      <td>39.0</td>\n",
       "      <td>1.0</td>\n",
       "      <td>0.0</td>\n",
       "      <td>1.0</td>\n",
       "      <td>1.0</td>\n",
       "      <td>0.0</td>\n",
       "      <td>3.0</td>\n",
       "      <td>1.0</td>\n",
       "    </tr>\n",
       "    <tr>\n",
       "      <th>5192</th>\n",
       "      <td>9.0</td>\n",
       "      <td>0.0</td>\n",
       "      <td>0.0</td>\n",
       "      <td>30.0</td>\n",
       "      <td>0.0</td>\n",
       "      <td>0.0</td>\n",
       "      <td>1.0</td>\n",
       "      <td>3.0</td>\n",
       "      <td>0.0</td>\n",
       "      <td>0.0</td>\n",
       "      <td>0.0</td>\n",
       "    </tr>\n",
       "  </tbody>\n",
       "</table>\n",
       "<p>49484 rows × 11 columns</p>\n",
       "</div>"
      ],
      "text/plain": [
       "        Age  Sex  HighChol   BMI  Smoker  HeartDiseaseorAttack  Veggies  \\\n",
       "7295    9.0  0.0       0.0  24.0     0.0                   0.0      1.0   \n",
       "44106   7.0  1.0       1.0  36.0     1.0                   1.0      1.0   \n",
       "50743   9.0  1.0       1.0  27.0     1.0                   1.0      1.0   \n",
       "29129   9.0  0.0       1.0  29.0     0.0                   0.0      1.0   \n",
       "63691   8.0  1.0       0.0  32.0     1.0                   0.0      1.0   \n",
       "...     ...  ...       ...   ...     ...                   ...      ...   \n",
       "49100  11.0  1.0       1.0  31.0     0.0                   0.0      1.0   \n",
       "20609  10.0  0.0       1.0  27.0     0.0                   0.0      1.0   \n",
       "21440   4.0  0.0       0.0  19.0     0.0                   0.0      1.0   \n",
       "50057  10.0  1.0       1.0  39.0     1.0                   0.0      1.0   \n",
       "5192    9.0  0.0       0.0  30.0     0.0                   0.0      1.0   \n",
       "\n",
       "       GenHlth  MentHlth  PhysHlth  HighBP  \n",
       "7295       2.0       1.0       0.0     0.0  \n",
       "44106      4.0      10.0       0.0     1.0  \n",
       "50743      5.0      25.0      30.0     1.0  \n",
       "29129      2.0       0.0       0.0     0.0  \n",
       "63691      3.0       1.0       2.0     1.0  \n",
       "...        ...       ...       ...     ...  \n",
       "49100      2.0       1.0      30.0     1.0  \n",
       "20609      2.0       3.0      10.0     1.0  \n",
       "21440      2.0       5.0       0.0     0.0  \n",
       "50057      1.0       0.0       3.0     1.0  \n",
       "5192       3.0       0.0       0.0     0.0  \n",
       "\n",
       "[49484 rows x 11 columns]"
      ]
     },
     "execution_count": 16,
     "metadata": {},
     "output_type": "execute_result"
    }
   ],
   "source": [
    "xtrain"
   ]
  },
  {
   "cell_type": "code",
   "execution_count": 17,
   "id": "446aeda3",
   "metadata": {
    "scrolled": true
   },
   "outputs": [
    {
     "data": {
      "text/plain": [
       "25002    0.0\n",
       "45944    1.0\n",
       "23894    0.0\n",
       "6931     0.0\n",
       "39255    1.0\n",
       "        ... \n",
       "62249    1.0\n",
       "5977     0.0\n",
       "16357    0.0\n",
       "35003    0.0\n",
       "36622    1.0\n",
       "Name: Diabetes, Length: 21208, dtype: float64"
      ]
     },
     "execution_count": 17,
     "metadata": {},
     "output_type": "execute_result"
    }
   ],
   "source": [
    "ytest"
   ]
  },
  {
   "cell_type": "markdown",
   "id": "9f94d2b6",
   "metadata": {},
   "source": [
    "### Creating the object of all the models ."
   ]
  },
  {
   "cell_type": "code",
   "execution_count": 18,
   "id": "129d45cc",
   "metadata": {},
   "outputs": [],
   "source": [
    "dt=DecisionTreeClassifier()\n",
    "svm=SVC()\n",
    "lrg=LogisticRegression()\n",
    "knn=KNeighborsClassifier()"
   ]
  },
  {
   "cell_type": "markdown",
   "id": "cca4567e",
   "metadata": {},
   "source": [
    "### Creating the function to execute all the models easily ."
   ]
  },
  {
   "cell_type": "code",
   "execution_count": 19,
   "id": "514e047c",
   "metadata": {},
   "outputs": [],
   "source": [
    "def mymodel(model):\n",
    "    model.fit(xtrain,ytrain)\n",
    "    ypred=model.predict(xtest)\n",
    "    print(classification_report(ytest,ypred))"
   ]
  },
  {
   "cell_type": "markdown",
   "id": "da3d3d2f",
   "metadata": {},
   "source": [
    "### Executing the function with respective models object to get the classification report ."
   ]
  },
  {
   "cell_type": "code",
   "execution_count": 20,
   "id": "e06da209",
   "metadata": {},
   "outputs": [
    {
     "name": "stdout",
     "output_type": "stream",
     "text": [
      "              precision    recall  f1-score   support\n",
      "\n",
      "         0.0       0.65      0.69      0.67     10681\n",
      "         1.0       0.67      0.62      0.64     10527\n",
      "\n",
      "    accuracy                           0.66     21208\n",
      "   macro avg       0.66      0.66      0.66     21208\n",
      "weighted avg       0.66      0.66      0.66     21208\n",
      "\n"
     ]
    }
   ],
   "source": [
    "mymodel(dt)"
   ]
  },
  {
   "cell_type": "code",
   "execution_count": 21,
   "id": "c83e14d6",
   "metadata": {},
   "outputs": [
    {
     "name": "stdout",
     "output_type": "stream",
     "text": [
      "              precision    recall  f1-score   support\n",
      "\n",
      "         0.0       0.76      0.73      0.74     10681\n",
      "         1.0       0.73      0.76      0.75     10527\n",
      "\n",
      "    accuracy                           0.75     21208\n",
      "   macro avg       0.75      0.75      0.75     21208\n",
      "weighted avg       0.75      0.75      0.75     21208\n",
      "\n"
     ]
    }
   ],
   "source": [
    "mymodel(lrg)"
   ]
  },
  {
   "cell_type": "code",
   "execution_count": 22,
   "id": "2a8a2233",
   "metadata": {},
   "outputs": [
    {
     "name": "stdout",
     "output_type": "stream",
     "text": [
      "              precision    recall  f1-score   support\n",
      "\n",
      "         0.0       0.71      0.68      0.70     10681\n",
      "         1.0       0.69      0.72      0.70     10527\n",
      "\n",
      "    accuracy                           0.70     21208\n",
      "   macro avg       0.70      0.70      0.70     21208\n",
      "weighted avg       0.70      0.70      0.70     21208\n",
      "\n"
     ]
    }
   ],
   "source": [
    "mymodel(knn)"
   ]
  },
  {
   "cell_type": "code",
   "execution_count": 23,
   "id": "01bc8857",
   "metadata": {
    "scrolled": true
   },
   "outputs": [
    {
     "name": "stdout",
     "output_type": "stream",
     "text": [
      "              precision    recall  f1-score   support\n",
      "\n",
      "         0.0       0.78      0.69      0.73     10681\n",
      "         1.0       0.72      0.81      0.76     10527\n",
      "\n",
      "    accuracy                           0.75     21208\n",
      "   macro avg       0.75      0.75      0.75     21208\n",
      "weighted avg       0.75      0.75      0.75     21208\n",
      "\n"
     ]
    }
   ],
   "source": [
    "mymodel(svm)"
   ]
  },
  {
   "cell_type": "markdown",
   "id": "e0ea89b4",
   "metadata": {},
   "source": [
    "### Hypertuning the Logisticregression model"
   ]
  },
  {
   "cell_type": "code",
   "execution_count": 24,
   "id": "67b1d89f",
   "metadata": {},
   "outputs": [
    {
     "name": "stdout",
     "output_type": "stream",
     "text": [
      "              precision    recall  f1-score   support\n",
      "\n",
      "         0.0       0.76      0.73      0.74     10681\n",
      "         1.0       0.73      0.76      0.75     10527\n",
      "\n",
      "    accuracy                           0.75     21208\n",
      "   macro avg       0.75      0.75      0.75     21208\n",
      "weighted avg       0.75      0.75      0.75     21208\n",
      "\n"
     ]
    }
   ],
   "source": [
    "lrg = LogisticRegression(solver=\"liblinear\")\n",
    "lrg.fit(xtrain,ytrain)\n",
    "ypred=lrg.predict(xtest)\n",
    "print(classification_report(ytest,ypred))"
   ]
  },
  {
   "cell_type": "markdown",
   "id": "3b0316b4",
   "metadata": {},
   "source": [
    "### Feature scaling for better prediction ."
   ]
  },
  {
   "cell_type": "code",
   "execution_count": 25,
   "id": "ee8c801f",
   "metadata": {},
   "outputs": [],
   "source": [
    "from sklearn.preprocessing import StandardScaler\n",
    "sc=StandardScaler()"
   ]
  },
  {
   "cell_type": "code",
   "execution_count": 26,
   "id": "b91e0be4",
   "metadata": {},
   "outputs": [],
   "source": [
    "xtrain=sc.fit_transform(xtrain)\n",
    "xtest=sc.transform(xtest)"
   ]
  },
  {
   "cell_type": "code",
   "execution_count": 27,
   "id": "66c43997",
   "metadata": {},
   "outputs": [],
   "source": [
    "lrg = LogisticRegression(solver=\"saga\")\n",
    "lrg.fit(xtrain,ytrain)\n",
    "ypred=lrg.predict(xtest)"
   ]
  },
  {
   "cell_type": "code",
   "execution_count": 28,
   "id": "7b7c2e81",
   "metadata": {},
   "outputs": [
    {
     "name": "stdout",
     "output_type": "stream",
     "text": [
      "              precision    recall  f1-score   support\n",
      "\n",
      "         0.0       0.76      0.73      0.74     10681\n",
      "         1.0       0.73      0.76      0.75     10527\n",
      "\n",
      "    accuracy                           0.75     21208\n",
      "   macro avg       0.75      0.75      0.75     21208\n",
      "weighted avg       0.75      0.75      0.75     21208\n",
      "\n"
     ]
    }
   ],
   "source": [
    "print(classification_report(ytest,ypred))"
   ]
  },
  {
   "cell_type": "code",
   "execution_count": 29,
   "id": "f0909184",
   "metadata": {},
   "outputs": [],
   "source": [
    "train_score=lrg.score(xtrain,ytrain)\n",
    "test_score=lrg.score(xtest,ytest)"
   ]
  },
  {
   "cell_type": "code",
   "execution_count": 30,
   "id": "550b4a4e",
   "metadata": {},
   "outputs": [
    {
     "data": {
      "text/plain": [
       "0.7444022310241695"
      ]
     },
     "execution_count": 30,
     "metadata": {},
     "output_type": "execute_result"
    }
   ],
   "source": [
    "train_score"
   ]
  },
  {
   "cell_type": "code",
   "execution_count": 31,
   "id": "9b8838c6",
   "metadata": {},
   "outputs": [
    {
     "data": {
      "text/plain": [
       "0.7458034703885327"
      ]
     },
     "execution_count": 31,
     "metadata": {},
     "output_type": "execute_result"
    }
   ],
   "source": [
    "test_score"
   ]
  },
  {
   "cell_type": "markdown",
   "id": "c423be4c",
   "metadata": {},
   "source": [
    "### We are getting that much accuracy with logisticregression in this dataset ."
   ]
  },
  {
   "cell_type": "markdown",
   "id": "911b82b1",
   "metadata": {},
   "source": [
    "## Hypertuning the Knn Model ."
   ]
  },
  {
   "cell_type": "code",
   "execution_count": 32,
   "id": "43f9ce22",
   "metadata": {},
   "outputs": [],
   "source": [
    "ac_list=[]\n",
    "for i in range(60,70):\n",
    "    knn=KNeighborsClassifier(n_neighbors=i)\n",
    "    knn.fit(xtrain,ytrain)\n",
    "    ypred=knn.predict(xtest)\n",
    "    ac=accuracy_score(ytest,ypred)\n",
    "    ac_list.append(ac)"
   ]
  },
  {
   "cell_type": "code",
   "execution_count": 33,
   "id": "930b809b",
   "metadata": {},
   "outputs": [
    {
     "data": {
      "text/plain": [
       "[0.7424085250848736,\n",
       " 0.7423613730667673,\n",
       " 0.7425971331572991,\n",
       " 0.7433987174651076,\n",
       " 0.743587325537533,\n",
       " 0.7432572614107884,\n",
       " 0.7428800452659374,\n",
       " 0.7433987174651076,\n",
       " 0.7433987174651076,\n",
       " 0.7433987174651076]"
      ]
     },
     "execution_count": 33,
     "metadata": {},
     "output_type": "execute_result"
    }
   ],
   "source": [
    "ac_list"
   ]
  },
  {
   "cell_type": "markdown",
   "id": "3105b624",
   "metadata": {},
   "source": [
    "### The best value for k is 63"
   ]
  },
  {
   "cell_type": "markdown",
   "id": "c62196bf",
   "metadata": {},
   "source": [
    "### Again Building the knn model with best k value  ( Final Model of knn)"
   ]
  },
  {
   "cell_type": "code",
   "execution_count": 34,
   "id": "6eac2f68",
   "metadata": {},
   "outputs": [
    {
     "name": "stdout",
     "output_type": "stream",
     "text": [
      "              precision    recall  f1-score   support\n",
      "\n",
      "         0.0       0.77      0.69      0.73     10681\n",
      "         1.0       0.72      0.79      0.75     10527\n",
      "\n",
      "    accuracy                           0.74     21208\n",
      "   macro avg       0.75      0.74      0.74     21208\n",
      "weighted avg       0.75      0.74      0.74     21208\n",
      "\n"
     ]
    }
   ],
   "source": [
    "knn=KNeighborsClassifier(n_neighbors=63)\n",
    "knn.fit(xtrain,ytrain)\n",
    "ypred=knn.predict(xtest)\n",
    "print(classification_report(ytest,ypred))"
   ]
  },
  {
   "cell_type": "code",
   "execution_count": 35,
   "id": "976793ed",
   "metadata": {},
   "outputs": [],
   "source": [
    "train_score_knn = knn.score(xtrain,ytrain)\n",
    "test_score_knn = knn.score(xtest,ytest)"
   ]
  },
  {
   "cell_type": "code",
   "execution_count": 36,
   "id": "9fbae7b4",
   "metadata": {},
   "outputs": [
    {
     "data": {
      "text/plain": [
       "0.7495554118502951"
      ]
     },
     "execution_count": 36,
     "metadata": {},
     "output_type": "execute_result"
    }
   ],
   "source": [
    "train_score_knn"
   ]
  },
  {
   "cell_type": "code",
   "execution_count": 37,
   "id": "e6471141",
   "metadata": {},
   "outputs": [
    {
     "data": {
      "text/plain": [
       "0.7433987174651076"
      ]
     },
     "execution_count": 37,
     "metadata": {},
     "output_type": "execute_result"
    }
   ],
   "source": [
    "test_score_knn"
   ]
  },
  {
   "cell_type": "markdown",
   "id": "7955af97",
   "metadata": {},
   "source": [
    "### Hypertuning the decision tree model ."
   ]
  },
  {
   "cell_type": "code",
   "execution_count": 38,
   "id": "0a498f6a",
   "metadata": {},
   "outputs": [
    {
     "name": "stdout",
     "output_type": "stream",
     "text": [
      "1= 0.6902112410411165\n",
      "2= 0.702329309694455\n",
      "3= 0.7122312334967936\n",
      "4= 0.7305733685401735\n",
      "5= 0.7348642021878536\n",
      "6= 0.7394379479441721\n",
      "7= 0.7427857412297246\n",
      "8= 0.7428800452659374\n",
      "9= 0.7393436439079593\n",
      "10= 0.7361373066767257\n",
      "11= 0.7322236891738967\n",
      "12= 0.7241606940777066\n",
      "13= 0.7121840814786873\n",
      "14= 0.7062900792153904\n",
      "15= 0.691908713692946\n",
      "16= 0.6817238777819691\n",
      "17= 0.6778574122972463\n",
      "18= 0.6727178423236515\n",
      "19= 0.665739343643908\n",
      "20= 0.6616842700867597\n",
      "21= 0.6620614862316108\n",
      "22= 0.660081101471143\n",
      "23= 0.6588079969822709\n",
      "24= 0.6593738211995473\n",
      "25= 0.6611655978875896\n",
      "26= 0.6582421727649943\n",
      "27= 0.6579121086382497\n",
      "28= 0.6575348924933987\n",
      "29= 0.6579592606563561\n",
      "30= 0.6572991324028669\n",
      "31= 0.6580064126744625\n",
      "32= 0.6597981893625047\n",
      "33= 0.6576291965296115\n",
      "34= 0.6567804602036967\n",
      "35= 0.6584779328555262\n",
      "36= 0.6590437570728027\n",
      "37= 0.6584307808374198\n",
      "38= 0.6573462844209732\n",
      "39= 0.6580535646925688\n",
      "40= 0.6589966050546964\n",
      "41= 0.6580064126744625\n",
      "42= 0.6600339494530366\n",
      "43= 0.6587608449641644\n",
      "44= 0.6594209732176537\n",
      "45= 0.659703885326292\n",
      "46= 0.6572048283666541\n",
      "47= 0.6591852131271219\n",
      "48= 0.6584307808374198\n",
      "49= 0.65946812523576\n"
     ]
    }
   ],
   "source": [
    "for i in range (1,50):\n",
    "    dt2=DecisionTreeClassifier(max_depth=i)\n",
    "    dt2.fit(xtrain,ytrain)\n",
    "    ypred=dt2.predict(xtest)\n",
    "    print(f\"{i}= {accuracy_score(ytest,ypred)}\")"
   ]
  },
  {
   "cell_type": "markdown",
   "id": "d1776bab",
   "metadata": {},
   "source": [
    "#### As we get the best value of max_depth is 8 ."
   ]
  },
  {
   "cell_type": "code",
   "execution_count": 39,
   "id": "3569be92",
   "metadata": {},
   "outputs": [
    {
     "name": "stdout",
     "output_type": "stream",
     "text": [
      "1= 0.6586665409279517\n",
      "2= 0.6614485099962278\n",
      "3= 0.6796020369671822\n",
      "4= 0.6837985665786496\n",
      "5= 0.6918144096567334\n",
      "6= 0.6967182195397963\n",
      "7= 0.7011976612599019\n",
      "8= 0.7052527348170502\n",
      "9= 0.7106280648811769\n",
      "10= 0.71175971331573\n",
      "11= 0.7157676348547718\n",
      "12= 0.7161448509996228\n",
      "13= 0.7193040362127499\n",
      "14= 0.71982270841192\n",
      "15= 0.7219445492267069\n",
      "16= 0.7246793662768767\n",
      "17= 0.7271312712184081\n",
      "18= 0.7285458317615994\n",
      "19= 0.7284515277253867\n",
      "20= 0.7288287438702377\n",
      "21= 0.7302904564315352\n",
      "22= 0.7324594492644285\n",
      "23= 0.7326952093549604\n",
      "24= 0.7330724254998114\n",
      "25= 0.7341097698981517\n",
      "26= 0.7345812900792154\n",
      "27= 0.7340626178800452\n",
      "28= 0.7347698981516408\n",
      "29= 0.734534138061109\n",
      "30= 0.7334967936627688\n",
      "31= 0.734534138061109\n",
      "32= 0.735665786495662\n",
      "33= 0.7351471142964919\n",
      "34= 0.7349585062240664\n",
      "35= 0.7353828743870238\n",
      "36= 0.7363730667672577\n",
      "37= 0.736420218785364\n",
      "38= 0.7370803470388533\n",
      "39= 0.738306299509619\n",
      "40= 0.7370331950207469\n",
      "41= 0.7370331950207469\n",
      "42= 0.7383534515277254\n",
      "43= 0.7382591474915127\n",
      "44= 0.73868351565447\n",
      "45= 0.7386363636363636\n",
      "46= 0.7386363636363636\n",
      "47= 0.7393907959260656\n",
      "48= 0.7401452282157677\n",
      "49= 0.739815164089023\n",
      "50= 0.7392964918898529\n",
      "51= 0.7393907959260656\n",
      "52= 0.7397208600528102\n",
      "53= 0.7397680120709166\n",
      "54= 0.7400980761976612\n",
      "55= 0.7395794039984911\n",
      "56= 0.7403338362881932\n",
      "57= 0.7398623161071294\n",
      "58= 0.7400037721614485\n",
      "59= 0.7406639004149378\n",
      "60= 0.7406167483968313\n",
      "61= 0.740192380233874\n",
      "62= 0.740192380233874\n",
      "63= 0.7413240286684271\n",
      "64= 0.740946812523576\n",
      "65= 0.7411825726141079\n",
      "66= 0.7418427008675972\n",
      "67= 0.7421727649943417\n",
      "68= 0.7417955488494907\n",
      "69= 0.7417955488494907\n"
     ]
    }
   ],
   "source": [
    "for i in range (1,70):\n",
    "    dt3=DecisionTreeClassifier(min_samples_leaf=i)\n",
    "    dt3.fit(xtrain,ytrain)\n",
    "    ypred=dt3.predict(xtest)\n",
    "    print(f\"{i}= {accuracy_score(ytest,ypred)}\")"
   ]
  },
  {
   "cell_type": "markdown",
   "id": "4658ba2d",
   "metadata": {},
   "source": [
    "#### The maximum value of min_sample_leaf is 67 . "
   ]
  },
  {
   "cell_type": "markdown",
   "id": "d725f164",
   "metadata": {},
   "source": [
    "## Building the model with criterion gini with best max_depth and min_sample_leaf value ."
   ]
  },
  {
   "cell_type": "code",
   "execution_count": 40,
   "id": "cfc459fd",
   "metadata": {},
   "outputs": [
    {
     "name": "stdout",
     "output_type": "stream",
     "text": [
      "              precision    recall  f1-score   support\n",
      "\n",
      "         0.0       0.78      0.69      0.73     10681\n",
      "         1.0       0.72      0.80      0.76     10527\n",
      "\n",
      "    accuracy                           0.74     21208\n",
      "   macro avg       0.75      0.74      0.74     21208\n",
      "weighted avg       0.75      0.74      0.74     21208\n",
      "\n"
     ]
    }
   ],
   "source": [
    "dt4=DecisionTreeClassifier(max_depth=8, min_samples_leaf=67)\n",
    "mymodel(dt4)"
   ]
  },
  {
   "cell_type": "code",
   "execution_count": 41,
   "id": "ddb03f35",
   "metadata": {},
   "outputs": [],
   "source": [
    "train_score_dt = dt4.score(xtrain,ytrain)\n",
    "test_score_dt = dt4.score(xtest,ytest)"
   ]
  },
  {
   "cell_type": "code",
   "execution_count": 42,
   "id": "a1a5f82f",
   "metadata": {},
   "outputs": [
    {
     "data": {
      "text/plain": [
       "0.7476760164901787"
      ]
     },
     "execution_count": 42,
     "metadata": {},
     "output_type": "execute_result"
    }
   ],
   "source": [
    "train_score_dt"
   ]
  },
  {
   "cell_type": "code",
   "execution_count": 43,
   "id": "171baab2",
   "metadata": {},
   "outputs": [
    {
     "data": {
      "text/plain": [
       "0.743587325537533"
      ]
     },
     "execution_count": 43,
     "metadata": {},
     "output_type": "execute_result"
    }
   ],
   "source": [
    "test_score_dt"
   ]
  },
  {
   "cell_type": "markdown",
   "id": "e93c4ddb",
   "metadata": {},
   "source": [
    "### Hypertuning the best max_depth value when criterion is entropy ."
   ]
  },
  {
   "cell_type": "code",
   "execution_count": 44,
   "id": "6636f9e8",
   "metadata": {},
   "outputs": [
    {
     "name": "stdout",
     "output_type": "stream",
     "text": [
      "1= 0.6902112410411165\n",
      "2= 0.702329309694455\n",
      "3= 0.7122312334967936\n",
      "4= 0.7305733685401735\n",
      "5= 0.7348642021878536\n",
      "6= 0.7393907959260656\n",
      "7= 0.7429271972840438\n",
      "8= 0.7416069407770652\n",
      "9= 0.7400980761976612\n",
      "10= 0.7370331950207469\n",
      "11= 0.7335439456808751\n",
      "12= 0.727225575254621\n",
      "13= 0.7167106752168992\n",
      "14= 0.7102036967182196\n",
      "15= 0.7014805733685402\n",
      "16= 0.6943606186344775\n",
      "17= 0.6873349679366277\n",
      "18= 0.680827989437948\n",
      "19= 0.6750754432289702\n",
      "20= 0.6726235382874387\n",
      "21= 0.668002640513014\n",
      "22= 0.6688513768389287\n",
      "23= 0.6669181440965674\n",
      "24= 0.6656450396076952\n",
      "25= 0.6660694077706526\n",
      "26= 0.663098830629951\n",
      "27= 0.6647019992455677\n",
      "28= 0.6639004149377593\n",
      "29= 0.6627687665032064\n"
     ]
    }
   ],
   "source": [
    "for i in range(1,30):\n",
    "    dt5=DecisionTreeClassifier(criterion=\"entropy\",max_depth=i)\n",
    "    dt5.fit(xtrain,ytrain)\n",
    "    ypred=dt5.predict(xtest)\n",
    "    print(f\"{i}= {accuracy_score(ytest,ypred)}\")"
   ]
  },
  {
   "cell_type": "markdown",
   "id": "7f14930d",
   "metadata": {},
   "source": [
    "### The best value of max depth when criterion is entropy we get 7."
   ]
  },
  {
   "cell_type": "markdown",
   "id": "9b27ae08",
   "metadata": {},
   "source": [
    "### Now hypertuning the best value of  min_sample_leaf when criterion is entropy ."
   ]
  },
  {
   "cell_type": "code",
   "execution_count": 45,
   "id": "c48a2969",
   "metadata": {},
   "outputs": [
    {
     "name": "stdout",
     "output_type": "stream",
     "text": [
      "40= 0.7372218030931724\n",
      "41= 0.7373632591474916\n",
      "42= 0.7385420596001508\n",
      "43= 0.7384477555639382\n",
      "44= 0.7387306676725763\n",
      "45= 0.7387306676725763\n",
      "46= 0.7385892116182573\n",
      "47= 0.7392021878536401\n",
      "48= 0.7403338362881932\n",
      "49= 0.7403338362881932\n",
      "50= 0.7398623161071294\n",
      "51= 0.7399094681252357\n",
      "52= 0.7405224443606186\n",
      "53= 0.7404752923425123\n",
      "54= 0.7406639004149378\n",
      "55= 0.7401452282157677\n",
      "56= 0.7408996605054696\n",
      "57= 0.7404281403244058\n",
      "58= 0.740569596378725\n",
      "59= 0.7413240286684271\n",
      "60= 0.7412768766503206\n",
      "61= 0.7412768766503206\n",
      "62= 0.7409939645416824\n",
      "63= 0.7421256129762354\n",
      "64= 0.7417483968313844\n",
      "65= 0.7419841569219162\n",
      "66= 0.7426442851754055\n",
      "67= 0.7429743493021501\n",
      "68= 0.7425971331572991\n",
      "69= 0.7425971331572991\n",
      "70= 0.7430215013202565\n",
      "71= 0.7430215013202565\n",
      "72= 0.7434458694832139\n",
      "73= 0.7436816295737457\n",
      "74= 0.7435401735194266\n",
      "75= 0.7435401735194266\n",
      "76= 0.7434930215013202\n",
      "77= 0.7438702376461712\n",
      "78= 0.7437759336099585\n",
      "79= 0.7432101093926821\n",
      "80= 0.7432101093926821\n",
      "81= 0.7440116937004904\n",
      "82= 0.7441531497548095\n",
      "83= 0.744341757827235\n",
      "84= 0.744341757827235\n",
      "85= 0.7441059977367032\n",
      "86= 0.7440116937004904\n",
      "87= 0.7440116937004904\n",
      "88= 0.7437759336099585\n",
      "89= 0.7437287815918522\n"
     ]
    }
   ],
   "source": [
    "for i in range(40,90):\n",
    "    dt6=DecisionTreeClassifier(criterion=\"entropy\",min_samples_leaf=i)\n",
    "    dt6.fit(xtrain,ytrain)\n",
    "    ypred=dt6.predict(xtest)\n",
    "    print(f\"{i}= {accuracy_score(ytest,ypred)}\")"
   ]
  },
  {
   "cell_type": "markdown",
   "id": "351dadc5",
   "metadata": {},
   "source": [
    "### The best value of min_sample_leaf when criterion is entropy is 48 ."
   ]
  },
  {
   "cell_type": "markdown",
   "id": "7b31a2a7",
   "metadata": {},
   "source": [
    "## Building the final model of criterion is entropy with best values of max_depth and min_sample_leaf ."
   ]
  },
  {
   "cell_type": "code",
   "execution_count": 46,
   "id": "f3ba7cea",
   "metadata": {
    "scrolled": true
   },
   "outputs": [
    {
     "name": "stdout",
     "output_type": "stream",
     "text": [
      "              precision    recall  f1-score   support\n",
      "\n",
      "         0.0       0.76      0.72      0.74     10681\n",
      "         1.0       0.73      0.77      0.75     10527\n",
      "\n",
      "    accuracy                           0.74     21208\n",
      "   macro avg       0.75      0.75      0.74     21208\n",
      "weighted avg       0.75      0.74      0.74     21208\n",
      "\n"
     ]
    }
   ],
   "source": [
    "dt7=DecisionTreeClassifier(criterion=\"entropy\",max_depth=7,min_samples_leaf=48)\n",
    "mymodel(dt7)"
   ]
  },
  {
   "cell_type": "markdown",
   "id": "c05a49dd",
   "metadata": {},
   "source": [
    "### Hypertuning the svm model ."
   ]
  },
  {
   "cell_type": "code",
   "execution_count": 47,
   "id": "bf3def10",
   "metadata": {},
   "outputs": [
    {
     "name": "stdout",
     "output_type": "stream",
     "text": [
      "              precision    recall  f1-score   support\n",
      "\n",
      "         0.0       0.78      0.69      0.73     10681\n",
      "         1.0       0.72      0.80      0.76     10527\n",
      "\n",
      "    accuracy                           0.75     21208\n",
      "   macro avg       0.75      0.75      0.74     21208\n",
      "weighted avg       0.75      0.75      0.74     21208\n",
      "\n"
     ]
    }
   ],
   "source": [
    "mymodel(svm)"
   ]
  },
  {
   "cell_type": "code",
   "execution_count": 48,
   "id": "52c60bb8",
   "metadata": {},
   "outputs": [],
   "source": [
    "train_score_svm = svm.score(xtrain,ytrain)\n",
    "test_score_svm = svm.score(xtest,ytest)"
   ]
  },
  {
   "cell_type": "code",
   "execution_count": 49,
   "id": "0c3a2eb9",
   "metadata": {},
   "outputs": [
    {
     "data": {
      "text/plain": [
       "0.7509093848516692"
      ]
     },
     "execution_count": 49,
     "metadata": {},
     "output_type": "execute_result"
    }
   ],
   "source": [
    "train_score_svm"
   ]
  },
  {
   "cell_type": "code",
   "execution_count": 50,
   "id": "46f3ca24",
   "metadata": {},
   "outputs": [
    {
     "data": {
      "text/plain": [
       "0.7455205582798944"
      ]
     },
     "execution_count": 50,
     "metadata": {},
     "output_type": "execute_result"
    }
   ],
   "source": [
    "test_score_svm"
   ]
  },
  {
   "cell_type": "code",
   "execution_count": 51,
   "id": "0a9255ab",
   "metadata": {},
   "outputs": [
    {
     "name": "stdout",
     "output_type": "stream",
     "text": [
      "              precision    recall  f1-score   support\n",
      "\n",
      "         0.0       0.77      0.70      0.74     10681\n",
      "         1.0       0.72      0.79      0.75     10527\n",
      "\n",
      "    accuracy                           0.75     21208\n",
      "   macro avg       0.75      0.75      0.74     21208\n",
      "weighted avg       0.75      0.75      0.74     21208\n",
      "\n"
     ]
    }
   ],
   "source": [
    "svm2=SVC(kernel=\"linear\")\n",
    "mymodel(svm2)"
   ]
  },
  {
   "cell_type": "code",
   "execution_count": 52,
   "id": "88c89768",
   "metadata": {},
   "outputs": [
    {
     "name": "stdout",
     "output_type": "stream",
     "text": [
      "              precision    recall  f1-score   support\n",
      "\n",
      "         0.0       0.77      0.68      0.73     10681\n",
      "         1.0       0.71      0.80      0.75     10527\n",
      "\n",
      "    accuracy                           0.74     21208\n",
      "   macro avg       0.74      0.74      0.74     21208\n",
      "weighted avg       0.74      0.74      0.74     21208\n",
      "\n"
     ]
    }
   ],
   "source": [
    "svm3=SVC(kernel=\"poly\")\n",
    "mymodel(svm3)"
   ]
  },
  {
   "cell_type": "markdown",
   "id": "b04da36c",
   "metadata": {},
   "source": [
    "As we are getting the same accuracy on svm with default kernal as well as linear kernal , so i am considering default as best model ."
   ]
  },
  {
   "cell_type": "markdown",
   "id": "ad0d21fa",
   "metadata": {},
   "source": [
    "In the scenario of disease we considers the high recall for getting good prediction , so the final model on this dataset with good accuracy and high recall score is support vector machine (svm) . "
   ]
  },
  {
   "cell_type": "markdown",
   "id": "e83a4a03",
   "metadata": {},
   "source": [
    "svm gives us the high recall score is 80 % and the overall accuraccy of that model is 75 % ."
   ]
  },
  {
   "cell_type": "code",
   "execution_count": 59,
   "id": "ca2ad9fc",
   "metadata": {},
   "outputs": [
    {
     "data": {
      "text/html": [
       "<div>\n",
       "<style scoped>\n",
       "    .dataframe tbody tr th:only-of-type {\n",
       "        vertical-align: middle;\n",
       "    }\n",
       "\n",
       "    .dataframe tbody tr th {\n",
       "        vertical-align: top;\n",
       "    }\n",
       "\n",
       "    .dataframe thead th {\n",
       "        text-align: right;\n",
       "    }\n",
       "</style>\n",
       "<table border=\"1\" class=\"dataframe\">\n",
       "  <thead>\n",
       "    <tr style=\"text-align: right;\">\n",
       "      <th></th>\n",
       "      <th>Age</th>\n",
       "      <th>Sex</th>\n",
       "      <th>HighChol</th>\n",
       "      <th>BMI</th>\n",
       "      <th>Smoker</th>\n",
       "      <th>HeartDiseaseorAttack</th>\n",
       "      <th>Veggies</th>\n",
       "      <th>GenHlth</th>\n",
       "      <th>MentHlth</th>\n",
       "      <th>PhysHlth</th>\n",
       "      <th>HighBP</th>\n",
       "      <th>Diabetes</th>\n",
       "    </tr>\n",
       "  </thead>\n",
       "  <tbody>\n",
       "    <tr>\n",
       "      <th>0</th>\n",
       "      <td>4.0</td>\n",
       "      <td>1.0</td>\n",
       "      <td>0.0</td>\n",
       "      <td>26.0</td>\n",
       "      <td>0.0</td>\n",
       "      <td>0.0</td>\n",
       "      <td>1.0</td>\n",
       "      <td>3.0</td>\n",
       "      <td>5.0</td>\n",
       "      <td>30.0</td>\n",
       "      <td>1.0</td>\n",
       "      <td>0.0</td>\n",
       "    </tr>\n",
       "    <tr>\n",
       "      <th>1</th>\n",
       "      <td>12.0</td>\n",
       "      <td>1.0</td>\n",
       "      <td>1.0</td>\n",
       "      <td>26.0</td>\n",
       "      <td>1.0</td>\n",
       "      <td>0.0</td>\n",
       "      <td>0.0</td>\n",
       "      <td>3.0</td>\n",
       "      <td>0.0</td>\n",
       "      <td>0.0</td>\n",
       "      <td>1.0</td>\n",
       "      <td>0.0</td>\n",
       "    </tr>\n",
       "    <tr>\n",
       "      <th>2</th>\n",
       "      <td>13.0</td>\n",
       "      <td>1.0</td>\n",
       "      <td>0.0</td>\n",
       "      <td>26.0</td>\n",
       "      <td>0.0</td>\n",
       "      <td>0.0</td>\n",
       "      <td>1.0</td>\n",
       "      <td>1.0</td>\n",
       "      <td>0.0</td>\n",
       "      <td>10.0</td>\n",
       "      <td>0.0</td>\n",
       "      <td>0.0</td>\n",
       "    </tr>\n",
       "    <tr>\n",
       "      <th>3</th>\n",
       "      <td>11.0</td>\n",
       "      <td>1.0</td>\n",
       "      <td>1.0</td>\n",
       "      <td>28.0</td>\n",
       "      <td>1.0</td>\n",
       "      <td>0.0</td>\n",
       "      <td>1.0</td>\n",
       "      <td>3.0</td>\n",
       "      <td>0.0</td>\n",
       "      <td>3.0</td>\n",
       "      <td>1.0</td>\n",
       "      <td>0.0</td>\n",
       "    </tr>\n",
       "    <tr>\n",
       "      <th>4</th>\n",
       "      <td>8.0</td>\n",
       "      <td>0.0</td>\n",
       "      <td>0.0</td>\n",
       "      <td>29.0</td>\n",
       "      <td>1.0</td>\n",
       "      <td>0.0</td>\n",
       "      <td>1.0</td>\n",
       "      <td>2.0</td>\n",
       "      <td>0.0</td>\n",
       "      <td>0.0</td>\n",
       "      <td>0.0</td>\n",
       "      <td>0.0</td>\n",
       "    </tr>\n",
       "  </tbody>\n",
       "</table>\n",
       "</div>"
      ],
      "text/plain": [
       "    Age  Sex  HighChol   BMI  Smoker  HeartDiseaseorAttack  Veggies  GenHlth  \\\n",
       "0   4.0  1.0       0.0  26.0     0.0                   0.0      1.0      3.0   \n",
       "1  12.0  1.0       1.0  26.0     1.0                   0.0      0.0      3.0   \n",
       "2  13.0  1.0       0.0  26.0     0.0                   0.0      1.0      1.0   \n",
       "3  11.0  1.0       1.0  28.0     1.0                   0.0      1.0      3.0   \n",
       "4   8.0  0.0       0.0  29.0     1.0                   0.0      1.0      2.0   \n",
       "\n",
       "   MentHlth  PhysHlth  HighBP  Diabetes  \n",
       "0       5.0      30.0     1.0       0.0  \n",
       "1       0.0       0.0     1.0       0.0  \n",
       "2       0.0      10.0     0.0       0.0  \n",
       "3       0.0       3.0     1.0       0.0  \n",
       "4       0.0       0.0     0.0       0.0  "
      ]
     },
     "execution_count": 59,
     "metadata": {},
     "output_type": "execute_result"
    }
   ],
   "source": [
    "df.head()"
   ]
  },
  {
   "cell_type": "code",
   "execution_count": 62,
   "id": "3a08610b",
   "metadata": {},
   "outputs": [
    {
     "data": {
      "text/plain": [
       "array([1.])"
      ]
     },
     "execution_count": 62,
     "metadata": {},
     "output_type": "execute_result"
    }
   ],
   "source": [
    "svm.predict([[19,1,0,29,1,0,0,3,4,11,1]])"
   ]
  },
  {
   "cell_type": "markdown",
   "id": "89c0b18f",
   "metadata": {},
   "source": [
    "In this random prediction we got the prediction that we will get diabetes."
   ]
  },
  {
   "cell_type": "code",
   "execution_count": 64,
   "id": "cf86f712",
   "metadata": {},
   "outputs": [
    {
     "data": {
      "text/plain": [
       "array([1.])"
      ]
     },
     "execution_count": 64,
     "metadata": {},
     "output_type": "execute_result"
    }
   ],
   "source": [
    "svm.predict([[25,0,1,33,0,0,1,3,3,20,0]])"
   ]
  },
  {
   "cell_type": "markdown",
   "id": "4b28e3d8",
   "metadata": {},
   "source": [
    "These are some random predictions to check the predictive power ."
   ]
  },
  {
   "cell_type": "code",
   "execution_count": null,
   "id": "77651362",
   "metadata": {},
   "outputs": [],
   "source": []
  }
 ],
 "metadata": {
  "kernelspec": {
   "display_name": "Python 3 (ipykernel)",
   "language": "python",
   "name": "python3"
  },
  "language_info": {
   "codemirror_mode": {
    "name": "ipython",
    "version": 3
   },
   "file_extension": ".py",
   "mimetype": "text/x-python",
   "name": "python",
   "nbconvert_exporter": "python",
   "pygments_lexer": "ipython3",
   "version": "3.9.12"
  }
 },
 "nbformat": 4,
 "nbformat_minor": 5
}
